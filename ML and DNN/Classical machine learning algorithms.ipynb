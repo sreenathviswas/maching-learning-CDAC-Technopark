{
 "cells": [
  {
   "cell_type": "code",
   "execution_count": 27,
   "metadata": {},
   "outputs": [],
   "source": [
    "import numpy as np\n",
    "from sklearn.preprocessing import Normalizer\n",
    "from sklearn.model_selection import train_test_split\n",
    "from sklearn.linear_model import LogisticRegression\n",
    "from sklearn.naive_bayes import GaussianNB\n",
    "from sklearn.neighbors import KNeighborsClassifier\n",
    "from sklearn.tree import DecisionTreeClassifier\n",
    "from sklearn.metrics import (precision_score, recall_score,f1_score, accuracy_score,mean_squared_error,mean_absolute_error)\n",
    "from sklearn.ensemble import AdaBoostClassifier\n",
    "from sklearn.ensemble import RandomForestClassifier\n",
    "from sklearn.svm import SVC\n",
    "from sklearn import svm"
   ]
  },
  {
   "cell_type": "code",
   "execution_count": 14,
   "metadata": {},
   "outputs": [],
   "source": [
    "dataset = np.loadtxt(\"pima-indians-diabetes.csv\", delimiter=\",\")\n",
    "# split into input (X) and output (Y) variables\n",
    "X = dataset[:,0:8]\n",
    "Y = dataset[:,8]\n",
    "\n",
    "#normalize the data\n",
    "scaler = Normalizer().fit(X)\n",
    "X = scaler.transform(X)"
   ]
  },
  {
   "cell_type": "code",
   "execution_count": 17,
   "metadata": {},
   "outputs": [],
   "source": [
    "traindata, testdata, trainlabel, testlabel = train_test_split(X, Y, test_size=0.33, random_state=42)\n",
    "expected = testlabel"
   ]
  },
  {
   "cell_type": "code",
   "execution_count": 19,
   "metadata": {},
   "outputs": [
    {
     "name": "stdout",
     "output_type": "stream",
     "text": [
      "-----------------------------------------LR---------------------------------\n",
      "accuracy\n",
      "0.673\n",
      "precision\n",
      "0.588\n",
      "racall\n",
      "0.116\n",
      "f1score\n",
      "0.194\n"
     ]
    }
   ],
   "source": [
    "print(\"-----------------------------------------LR---------------------------------\")\n",
    "model = LogisticRegression()\n",
    "model.fit(traindata, trainlabel)\n",
    "\n",
    "# make predictions\n",
    "expected = testlabel\n",
    "predicted = model.predict(testdata)\n",
    "\n",
    "y_train1 = expected\n",
    "y_pred = predicted\n",
    "accuracy = accuracy_score(y_train1, y_pred)\n",
    "recall = recall_score(y_train1, y_pred , average=\"binary\")\n",
    "precision = precision_score(y_train1, y_pred , average=\"binary\")\n",
    "f1 = f1_score(y_train1, y_pred, average=\"binary\")\n",
    "\n",
    "print(\"accuracy\")\n",
    "print(\"%.3f\" %accuracy)\n",
    "print(\"precision\")\n",
    "print(\"%.3f\" %precision)\n",
    "print(\"racall\")\n",
    "print(\"%.3f\" %recall)\n",
    "print(\"f1score\")\n",
    "print(\"%.3f\" %f1)\n"
   ]
  },
  {
   "cell_type": "code",
   "execution_count": 20,
   "metadata": {},
   "outputs": [
    {
     "name": "stdout",
     "output_type": "stream",
     "text": [
      "-----------------------------------------NB---------------------------------\n",
      "GaussianNB(priors=None)\n",
      "accuracy\n",
      "0.661\n",
      "precision\n",
      "0.500\n",
      "racall\n",
      "0.407\n",
      "f1score\n",
      "0.449\n"
     ]
    }
   ],
   "source": [
    "# fit a Naive Bayes model to the data\n",
    "print(\"-----------------------------------------NB---------------------------------\")\n",
    "model = GaussianNB()\n",
    "model.fit(traindata, trainlabel)\n",
    "print(model)\n",
    "# make predictions\n",
    "expected = testlabel\n",
    "predicted = model.predict(testdata)\n",
    "\n",
    "y_train1 = expected\n",
    "y_pred = predicted\n",
    "accuracy = accuracy_score(y_train1, y_pred)\n",
    "recall = recall_score(y_train1, y_pred , average=\"binary\")\n",
    "precision = precision_score(y_train1, y_pred , average=\"binary\")\n",
    "f1 = f1_score(y_train1, y_pred, average=\"binary\")\n",
    "\n",
    "print(\"accuracy\")\n",
    "print(\"%.3f\" %accuracy)\n",
    "print(\"precision\")\n",
    "print(\"%.3f\" %precision)\n",
    "print(\"racall\")\n",
    "print(\"%.3f\" %recall)\n",
    "print(\"f1score\")\n",
    "print(\"%.3f\" %f1)"
   ]
  },
  {
   "cell_type": "code",
   "execution_count": 21,
   "metadata": {},
   "outputs": [
    {
     "name": "stdout",
     "output_type": "stream",
     "text": [
      "-----------------------------------------KNN---------------------------------\n",
      "KNeighborsClassifier(algorithm='auto', leaf_size=30, metric='minkowski',\n",
      "           metric_params=None, n_jobs=1, n_neighbors=5, p=2,\n",
      "           weights='uniform')\n",
      "----------------------------------------------\n",
      "accuracy\n",
      "0.693\n",
      "precision\n",
      "0.559\n",
      "racall\n",
      "0.442\n",
      "f1score\n",
      "0.494\n"
     ]
    }
   ],
   "source": [
    "# fit a k-nearest neighbor model to the data\n",
    "print(\"-----------------------------------------KNN---------------------------------\")\n",
    "model = KNeighborsClassifier()\n",
    "model.fit(traindata, trainlabel)\n",
    "print(model)\n",
    "# make predictions\n",
    "expected = testlabel\n",
    "predicted = model.predict(testdata)\n",
    "# summarize the fit of the model\n",
    "\n",
    "y_train1 = expected\n",
    "y_pred = predicted\n",
    "accuracy = accuracy_score(y_train1, y_pred)\n",
    "recall = recall_score(y_train1, y_pred , average=\"binary\")\n",
    "precision = precision_score(y_train1, y_pred , average=\"binary\")\n",
    "f1 = f1_score(y_train1, y_pred, average=\"binary\")\n",
    "\n",
    "\n",
    "print(\"----------------------------------------------\")\n",
    "print(\"accuracy\")\n",
    "print(\"%.3f\" %accuracy)\n",
    "print(\"precision\")\n",
    "print(\"%.3f\" %precision)\n",
    "print(\"racall\")\n",
    "print(\"%.3f\" %recall)\n",
    "print(\"f1score\")\n",
    "print(\"%.3f\" %f1)"
   ]
  },
  {
   "cell_type": "code",
   "execution_count": 22,
   "metadata": {},
   "outputs": [
    {
     "name": "stdout",
     "output_type": "stream",
     "text": [
      "-----------------------------------------DT---------------------------------\n",
      "DecisionTreeClassifier(class_weight=None, criterion='gini', max_depth=None,\n",
      "            max_features=None, max_leaf_nodes=None,\n",
      "            min_impurity_decrease=0.0, min_impurity_split=None,\n",
      "            min_samples_leaf=1, min_samples_split=2,\n",
      "            min_weight_fraction_leaf=0.0, presort=False, random_state=None,\n",
      "            splitter='best')\n",
      "----------------------------------------------\n",
      "accuracy\n",
      "0.634\n",
      "precision\n",
      "0.457\n",
      "racall\n",
      "0.430\n",
      "f1score\n",
      "0.443\n"
     ]
    }
   ],
   "source": [
    "print(\"-----------------------------------------DT---------------------------------\")\n",
    "\n",
    "model = DecisionTreeClassifier()\n",
    "model.fit(traindata, trainlabel)\n",
    "print(model)\n",
    "# make predictions\n",
    "expected = testlabel\n",
    "predicted = model.predict(testdata)\n",
    "# summarize the fit of the model\n",
    "\n",
    "y_train1 = expected\n",
    "y_pred = predicted\n",
    "accuracy = accuracy_score(y_train1, y_pred)\n",
    "recall = recall_score(y_train1, y_pred , average=\"binary\")\n",
    "precision = precision_score(y_train1, y_pred , average=\"binary\")\n",
    "f1 = f1_score(y_train1, y_pred, average=\"binary\")\n",
    "\n",
    "\n",
    "print(\"----------------------------------------------\")\n",
    "print(\"accuracy\")\n",
    "print(\"%.3f\" %accuracy)\n",
    "print(\"precision\")\n",
    "print(\"%.3f\" %precision)\n",
    "print(\"racall\")\n",
    "print(\"%.3f\" %recall)\n",
    "print(\"f1score\")\n",
    "print(\"%.3f\" %f1)\n"
   ]
  },
  {
   "cell_type": "code",
   "execution_count": 23,
   "metadata": {},
   "outputs": [
    {
     "name": "stdout",
     "output_type": "stream",
     "text": [
      "-----------------------------------------Adaboost---------------------------------\n",
      "----------------------------------------------\n",
      "accuracy\n",
      "0.650\n",
      "precision\n",
      "0.475\n",
      "racall\n",
      "0.337\n",
      "f1score\n",
      "0.395\n"
     ]
    }
   ],
   "source": [
    "print(\"-----------------------------------------Adaboost---------------------------------\")\n",
    "\n",
    "model = AdaBoostClassifier(n_estimators=100)\n",
    "model.fit(traindata, trainlabel)\n",
    "\n",
    "# make predictions\n",
    "expected = testlabel\n",
    "predicted = model.predict(testdata)\n",
    "# summarize the fit of the model\n",
    "\n",
    "y_train1 = expected\n",
    "y_pred = predicted\n",
    "accuracy = accuracy_score(y_train1, y_pred)\n",
    "recall = recall_score(y_train1, y_pred , average=\"binary\")\n",
    "precision = precision_score(y_train1, y_pred , average=\"binary\")\n",
    "f1 = f1_score(y_train1, y_pred, average=\"binary\")\n",
    "\n",
    "\n",
    "print(\"----------------------------------------------\")\n",
    "print(\"accuracy\")\n",
    "print(\"%.3f\" %accuracy)\n",
    "print(\"precision\")\n",
    "print(\"%.3f\" %precision)\n",
    "print(\"racall\")\n",
    "print(\"%.3f\" %recall)\n",
    "print(\"f1score\")\n",
    "print(\"%.3f\" %f1)\n"
   ]
  },
  {
   "cell_type": "code",
   "execution_count": 24,
   "metadata": {},
   "outputs": [
    {
     "name": "stdout",
     "output_type": "stream",
     "text": [
      "--------------------------------------RF--------------------------------------\n",
      "----------------------------------------------\n",
      "accuracy\n",
      "0.677\n",
      "precision\n",
      "0.532\n",
      "racall\n",
      "0.384\n",
      "f1score\n",
      "0.446\n"
     ]
    }
   ],
   "source": [
    "model = RandomForestClassifier(n_estimators=100)\n",
    "model = model.fit(traindata, trainlabel)\n",
    "\n",
    "# make predictions\n",
    "expected = testlabel\n",
    "predicted = model.predict(testdata)\n",
    "# summarize the fit of the model\n",
    "\n",
    "print(\"--------------------------------------RF--------------------------------------\")\n",
    "\n",
    "y_train1 = expected\n",
    "y_pred = predicted\n",
    "accuracy = accuracy_score(y_train1, y_pred)\n",
    "recall = recall_score(y_train1, y_pred , average=\"binary\")\n",
    "precision = precision_score(y_train1, y_pred , average=\"binary\")\n",
    "f1 = f1_score(y_train1, y_pred, average=\"binary\")\n",
    "\n",
    "\n",
    "print(\"----------------------------------------------\")\n",
    "print(\"accuracy\")\n",
    "print(\"%.3f\" %accuracy)\n",
    "print(\"precision\")\n",
    "print(\"%.3f\" %precision)\n",
    "print(\"racall\")\n",
    "print(\"%.3f\" %recall)\n",
    "print(\"f1score\")\n",
    "print(\"%.3f\" %f1)"
   ]
  },
  {
   "cell_type": "code",
   "execution_count": 28,
   "metadata": {},
   "outputs": [
    {
     "name": "stdout",
     "output_type": "stream",
     "text": [
      "--------------------------------------SVMrbf--------------------------------------\n",
      "accuracy\n",
      "0.661\n",
      "precision\n",
      "0.000\n",
      "racall\n",
      "0.000\n",
      "f1score\n",
      "0.000\n"
     ]
    },
    {
     "name": "stderr",
     "output_type": "stream",
     "text": [
      "/usr/local/lib/python2.7/dist-packages/sklearn/metrics/classification.py:1135: UndefinedMetricWarning: Precision is ill-defined and being set to 0.0 due to no predicted samples.\n",
      "  'precision', 'predicted', average, warn_for)\n",
      "/usr/local/lib/python2.7/dist-packages/sklearn/metrics/classification.py:1135: UndefinedMetricWarning: F-score is ill-defined and being set to 0.0 due to no predicted samples.\n",
      "  'precision', 'predicted', average, warn_for)\n"
     ]
    }
   ],
   "source": [
    "model = svm.SVC(kernel='rbf')\n",
    "model = model.fit(traindata, trainlabel)\n",
    "\n",
    "# make predictions\n",
    "expected = testlabel\n",
    "predicted = model.predict(testdata)\n",
    "print(\"--------------------------------------SVMrbf--------------------------------------\")\n",
    "y_train1 = expected\n",
    "y_pred = predicted\n",
    "accuracy = accuracy_score(y_train1, y_pred)\n",
    "recall = recall_score(y_train1, y_pred , average=\"binary\")\n",
    "precision = precision_score(y_train1, y_pred , average=\"binary\")\n",
    "f1 = f1_score(y_train1, y_pred, average=\"binary\")\n",
    "\n",
    "print(\"accuracy\")\n",
    "print(\"%.3f\" %accuracy)\n",
    "print(\"precision\")\n",
    "print(\"%.3f\" %precision)\n",
    "print(\"racall\")\n",
    "print(\"%.3f\" %recall)\n",
    "print(\"f1score\")\n",
    "print(\"%.3f\" %f1)\n"
   ]
  },
  {
   "cell_type": "code",
   "execution_count": 29,
   "metadata": {},
   "outputs": [
    {
     "name": "stdout",
     "output_type": "stream",
     "text": [
      "SVC(C=1000, cache_size=200, class_weight=None, coef0=0.0,\n",
      "  decision_function_shape='ovr', degree=3, gamma='auto', kernel='linear',\n",
      "  max_iter=-1, probability=False, random_state=None, shrinking=True,\n",
      "  tol=0.001, verbose=False)\n",
      "--------------------------------------SVM linear--------------------------------------\n",
      "accuracy\n",
      "0.661\n",
      "precision\n",
      "0.000\n",
      "racall\n",
      "0.000\n",
      "f1score\n",
      "0.000\n"
     ]
    }
   ],
   "source": [
    "model = svm.SVC(kernel='linear', C=1000)\n",
    "model.fit(traindata, trainlabel)\n",
    "print(model)\n",
    "# make predictions\n",
    "expected = testlabel\n",
    "predicted = model.predict(testdata)\n",
    "# summarize the fit of the model\n",
    "print(\"--------------------------------------SVM linear--------------------------------------\")\n",
    "y_train1 = expected\n",
    "y_pred = predicted\n",
    "accuracy = accuracy_score(y_train1, y_pred)\n",
    "recall = recall_score(y_train1, y_pred , average=\"binary\")\n",
    "precision = precision_score(y_train1, y_pred , average=\"binary\")\n",
    "f1 = f1_score(y_train1, y_pred, average=\"binary\")\n",
    "\n",
    "print(\"accuracy\")\n",
    "print(\"%.3f\" %accuracy)\n",
    "print(\"precision\")\n",
    "print(\"%.3f\" %precision)\n",
    "print(\"racall\")\n",
    "print(\"%.3f\" %recall)\n",
    "print(\"f1score\")\n",
    "print(\"%.3f\" %f1)"
   ]
  },
  {
   "cell_type": "code",
   "execution_count": null,
   "metadata": {},
   "outputs": [],
   "source": []
  }
 ],
 "metadata": {
  "kernelspec": {
   "display_name": "securetensor",
   "language": "python",
   "name": "securetensor"
  },
  "language_info": {
   "codemirror_mode": {
    "name": "ipython",
    "version": 2
   },
   "file_extension": ".py",
   "mimetype": "text/x-python",
   "name": "python",
   "nbconvert_exporter": "python",
   "pygments_lexer": "ipython2",
   "version": "2.7.12"
  }
 },
 "nbformat": 4,
 "nbformat_minor": 2
}
